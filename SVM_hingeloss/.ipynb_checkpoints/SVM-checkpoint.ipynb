{
 "cells": [
  {
   "cell_type": "code",
   "execution_count": 1,
   "metadata": {
    "collapsed": false
   },
   "outputs": [
    {
     "data": {
      "text/plain": [
       "array([ 1.03625333,  1.13051372,  0.03141677, -1.20612597])"
      ]
     },
     "execution_count": 1,
     "metadata": {},
     "output_type": "execute_result"
    }
   ],
   "source": [
    "import numpy as np\n",
    "\n",
    "# FYI \n",
    "# svm brief: http://blog.csdn.net/cxmscb/article/details/56277984?locationNum=12\n",
    "# hinge loss: http://blog.csdn.net/luo123n/article/details/48878759\n",
    "# lagrange multiplier: http://blog.sina.com.cn/s/blog_4298002e010144k8.html\n",
    "#\n",
    "dataset = [[2.0, 3.0, 0.0, 5.0, 2.8], [3.0, 4.0, 5.0, 0.0, 0.0],\n",
    "             [0.5, 0.3, 0.7, 0.9, 0.0], [-2.0, 0.1, 0.2, 0.9, 0.0]]\n",
    "labels = [1, 1, -1, -1]\n",
    "\n",
    "epoch_num = 100\n",
    "feature_size = len(dataset[0])\n",
    "weights = np.ones(feature_size,)\n",
    "learning_rate = 0.01\n",
    "\n",
    "for i in range(epoch_num):\n",
    "    #print 'epoch {}'.format(i)\n",
    "    grad = np.zeros(feature_size)\n",
    "\n",
    "    for j in range(len(dataset)):\n",
    "        item = dataset[j]\n",
    "        label = labels[j]\n",
    "        predict = np.dot(weights, item)\n",
    "        if 1 - predict > 0:\n",
    "            # for hingle loss > 0 \n",
    "            grad = weights - np.array(item) * label\n",
    "        else:\n",
    "            # for hingle loss < 0\n",
    "            grad = weights\n",
    "        \n",
    "        weights -= learning_rate* grad\n",
    "    \n",
    "#predict     \n",
    "np.sum(weights*dataset,1)\n",
    "    \n"
   ]
  }
 ],
 "metadata": {
  "anaconda-cloud": {},
  "kernelspec": {
   "display_name": "Python [conda root]",
   "language": "python",
   "name": "conda-root-py"
  },
  "language_info": {
   "codemirror_mode": {
    "name": "ipython",
    "version": 2
   },
   "file_extension": ".py",
   "mimetype": "text/x-python",
   "name": "python",
   "nbconvert_exporter": "python",
   "pygments_lexer": "ipython2",
   "version": "2.7.12"
  }
 },
 "nbformat": 4,
 "nbformat_minor": 1
}
