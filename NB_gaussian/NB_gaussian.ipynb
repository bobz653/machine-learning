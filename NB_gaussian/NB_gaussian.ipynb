{
 "cells": [
  {
   "cell_type": "code",
   "execution_count": 34,
   "metadata": {
    "collapsed": false
   },
   "outputs": [
    {
     "name": "stdout",
     "output_type": "stream",
     "text": [
      "1\n"
     ]
    }
   ],
   "source": [
    "import numpy as np \n",
    "import math\n",
    "\n",
    "def cal_gaussian(x,mean,stdev):\n",
    "    coef = 1/(math.sqrt(2*math.pi)*stdev)\n",
    "    return coef * math.exp( -1 * math.pow( x - mean, 2 ) / (2 * math.pow(stdev, 2)))\n",
    "\n",
    "\n",
    "def get_mean_std(dataset):\n",
    "    return list(zip(np.mean(dataset,0),np.std(dataset,0)))\n",
    "\n",
    "def get_prob(dataset):\n",
    "    label_dataset = {}\n",
    "    for item in dataset:\n",
    "        label_dataset.setdefault(item[-1], [])\n",
    "        label_dataset[item[-1]].append(item)\n",
    "    \n",
    "    label_mean_std = {}\n",
    "    for label in label_dataset.keys():\n",
    "        label_mean_std[label] = get_mean_std(label_dataset[label])\n",
    "    \n",
    "    return label_mean_std\n",
    "\n",
    "\n",
    "\n",
    "def predict(dataset, label_mean_std):\n",
    "    bestprob = 0.0\n",
    "    bestlabel = ''\n",
    "    for label in label_mean_std.keys():\n",
    "        mean_std_list = label_mean_std[label]\n",
    "        prob = 1.0 \n",
    "        for i in range(len(dataset)-1):\n",
    "            prob *= cal_gaussian(dataset[i], mean_std_list[i][0], mean_std_list[i][1])\n",
    "        if prob > bestprob:\n",
    "            bestlabel = label\n",
    "            bestprob = prob\n",
    "    return bestlabel\n",
    "\n",
    "def main():\n",
    "    # [5, 9]\n",
    "    dataset = [[6, 148, 72, 35, 0, 33.6, 0.627, 50,1],\n",
    "               [1, 85, 66, 29, 0, 26.6, 0.351, 31,0],\n",
    "               [8, 183, 64, 0, 0, 23.3, 0.672, 32,1],\n",
    "               [2, 89, 68, 23, 94, 28.1, 0.167, 21, 0],\n",
    "               [0, 137, 40, 35, 168, 43.1, 2.288, 33, 1]]\n",
    "    \n",
    "    test_dataset = [7, 147, 72, 35, 0, 33.6, 0.628, 50]\n",
    "    \n",
    "    label_mean_std = get_prob(dataset)\n",
    "    \n",
    "    print predict(dataset[4], label_mean_std)\n",
    "    \n",
    "\n",
    "if '__main__' == __name__:\n",
    "    main()"
   ]
  },
  {
   "cell_type": "code",
   "execution_count": 21,
   "metadata": {
    "collapsed": false
   },
   "outputs": [
    {
     "name": "stdout",
     "output_type": "stream",
     "text": [
      "[(1.0, 0.0), (3.5, 1.5), (4.5, 1.5)]\n",
      "3\n"
     ]
    }
   ],
   "source": [
    "import numpy as np \n",
    "dataset = [[1,2,3],\n",
    "          [1,5,6]]\n",
    "\n",
    "print list(zip(np.mean(dataset, 0),np.std(dataset,0)))\n",
    "\n",
    "#list(zip(*dataset))\n",
    "\n",
    "a = [1,2,3]\n",
    "print a[-1]\n"
   ]
  }
 ],
 "metadata": {
  "anaconda-cloud": {},
  "kernelspec": {
   "display_name": "Python [conda root]",
   "language": "python",
   "name": "conda-root-py"
  },
  "language_info": {
   "codemirror_mode": {
    "name": "ipython",
    "version": 2
   },
   "file_extension": ".py",
   "mimetype": "text/x-python",
   "name": "python",
   "nbconvert_exporter": "python",
   "pygments_lexer": "ipython2",
   "version": "2.7.12"
  }
 },
 "nbformat": 4,
 "nbformat_minor": 1
}
