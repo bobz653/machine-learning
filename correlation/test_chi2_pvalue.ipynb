{
 "cells": [
  {
   "cell_type": "code",
   "execution_count": 33,
   "metadata": {
    "collapsed": false
   },
   "outputs": [
    {
     "name": "stdout",
     "output_type": "stream",
     "text": [
      "0.393418620974\n",
      "0.0347359313295\n",
      "0.69213308132 0.0265638502093\n",
      "(3, 2)\n",
      "0    5\n",
      "1    7\n",
      "2    9\n",
      "dtype: int64\n",
      "4.0\n",
      "2.0\n",
      "0.63\n"
     ]
    }
   ],
   "source": [
    "#encoding=utf-8\n",
    "'''cite from http://blog.csdn.net/hjh00/article/details/48787235\n",
    "'''\n",
    "import scipy.stats as stats  \n",
    "#婚姻质量  \n",
    "x=[76,81,78,76,76,78,76,78,98,88,76,66,44,67,65,59,87,77,79,85,68,76,77,98,99,98,87,67,78]    \n",
    "#父母-子女关系 水平  \n",
    "y=[43,33,23,34,31,51,56,43,44,45,32,33,28,39,31,38,21,27,43,46,41,41,48,56,55,45,68,54,33]    \n",
    "r, p=stats.pearsonr(x,y)  \n",
    "print r  \n",
    "print p  \n",
    "\n",
    "\n",
    "import scipy.stats.stats as stats  \n",
    "x=[2,4,5,6,4,7,8,5,6,7]  \n",
    "y=[3,2,6,5,3,6,5,4,4,5]  \n",
    "r,p=stats.pearsonr(x,y)\n",
    "print r,p \n",
    "\n",
    "\n",
    "import numpy as np  \n",
    "import pandas as pd   \n",
    "import scipy.stats.stats as stats  \n",
    "import math  \n",
    "score=[  \n",
    "       [3,5,1,4,1],  \n",
    "       [4,4,3,5,3],  \n",
    "       ]  \n",
    "df = pd.DataFrame({'A':[1,2,3],'B':[4,5,6]})  \n",
    "print df.shape\n",
    "total_row = df.sum(axis=1)  #按照每列的值挨个加来家\n",
    "print total_row\n",
    "sy = total_row.var()  \n",
    "print sy   \n",
    "var_column =  df.var()  \n",
    "si = var_column.sum()  \n",
    "print si   \n",
    "r = (5.0/4.0)*((sy-si)/sy)  \n",
    "print round(r,2)  \n"
   ]
  },
  {
   "cell_type": "code",
   "execution_count": 2,
   "metadata": {
    "collapsed": false
   },
   "outputs": [
    {
     "name": "stderr",
     "output_type": "stream",
     "text": [
      "/Users/zhangbo/anaconda2/lib/python2.7/site-packages/matplotlib/font_manager.py:273: UserWarning: Matplotlib is building the font cache using fc-list. This may take a moment.\n",
      "  warnings.warn('Matplotlib is building the font cache using fc-list. This may take a moment.')\n"
     ]
    },
    {
     "name": "stdout",
     "output_type": "stream",
     "text": [
      "0.704 0.72\n"
     ]
    },
    {
     "data": {
      "image/png": "[encoded data removed]",
      "text/plain": [
       "<matplotlib.figure.Figure at 0x10d36bf50>"
      ]
     },
     "metadata": {},
     "output_type": "display_data"
    }
   ],
   "source": [
    "import numpy as np  \n",
    "import matplotlib.pylab as plt  \n",
    "from scipy import stats  \n",
    "x = [3.5, 2.5, 4.0, 3.8, 2.8, 1.9, 3.2, 3.7, 2.7, 3.3]   #高中平均成绩  \n",
    "y = [3.3, 2.2, 3.5, 2.7, 3.5, 2.0, 3.1, 3.4, 1.9, 3.7]   #大学平均成绩  \n",
    "slope, intercept, r_value, p_value, std_err = stats.linregress(x,y)  \n",
    "slope = round(slope,3)  \n",
    "intercept = round(intercept,3)  \n",
    "print slope, intercept  \n",
    "  \n",
    "def f(x, a, b):  \n",
    "    return a + b*x  \n",
    "  \n",
    "xdata = np.linspace(1, 5, 20)  \n",
    "plt.grid(True)  \n",
    "plt.xlabel('x axis')    \n",
    "plt.ylabel('y axis')   \n",
    "plt.text(2.5, 4.0, r'$y = ' + str(intercept) + ' + ' + str(slope) +'*x$', fontsize=18)  \n",
    "plt.plot(xdata, f(xdata, intercept,slope), 'b', linewidth=1)  \n",
    "plt.plot(x,y,'ro')  \n",
    "plt.show() "
   ]
  },
  {
   "cell_type": "code",
   "execution_count": 47,
   "metadata": {
    "collapsed": false
   },
   "outputs": [
    {
     "name": "stdout",
     "output_type": "stream",
     "text": [
      "WilcoxonResult(statistic=0.0, pvalue=0.31731050786291415)\n",
      "0.00884781443838\n",
      "1.0\n",
      "Skew of dataset         -0.721\n",
      "Skew test p-value          0.185\n",
      "Kurt of dataset         -1.214\n",
      "Kurt test p-value          0.255\n",
      "Norm test p-value          0.217\n",
      "-0.184911526089\n",
      "0.854992483063\n",
      "-2.60873115169\n",
      "0.0243124679505\n"
     ]
    }
   ],
   "source": [
    "from scipy.stats import chisquare  \n",
    "from scipy import stats\n",
    "f_obs = [2, 29, 29]       #赞同、中立、反对  \n",
    "f_exp = [30, 30, 30]  \n",
    "f_obs = [0.813,0.453,0.891,0.92,0.571,0.895,0.812,0.451,0.888,0.92,0.57,0.894]\n",
    "f_exp = [0.834,0.476,0.871,0.924,0.60,0.91,0.833,0.472,0.868,0.925,0.605,0.926]\n",
    "\n",
    "print stats.wilcoxon([1,2,3,4,5], [1,2,2,4,5]) \n",
    "\n",
    "chisq, p = chisquare(f_obs, f_exp)  \n",
    "print chisq  \n",
    "print p  #如果很大则接受独立假设，则没有关系,或者说没有显著差异，很小则推翻独立假设，有关系\n",
    "\n",
    "import scipy.stats as scs  \n",
    "def normality_test(arr):  \n",
    "    print \"Skew of dataset %14.3f\" % scs.skew(arr)  \n",
    "    print \"Skew test p-value %14.3f\" % scs.skewtest(arr)[1]  \n",
    "    print \"Kurt of dataset %14.3f\" % scs.kurtosis(arr)  \n",
    "    print \"Kurt test p-value %14.3f\" % scs.kurtosistest(arr)[1]  \n",
    "    print \"Norm test p-value %14.3f\" % scs.normaltest(arr)[1]  #比较大才能说接受正态分布假设\n",
    "\n",
    "\n",
    "normality_test(f_obs)\n",
    "\n",
    "\n",
    "t,p=ttest_ind(f_obs, f_exp)  \n",
    "print t  \n",
    "print p    #p 大说明无显著差异，接受独立假设\n",
    "\n",
    "t,p=ttest_rel(f_obs, f_exp)  \n",
    "print t  \n",
    "print p \n",
    "\n"
   ]
  },
  {
   "cell_type": "code",
   "execution_count": 8,
   "metadata": {
    "collapsed": false
   },
   "outputs": [
    {
     "name": "stdout",
     "output_type": "stream",
     "text": [
      "-2.15195090047\n",
      "0.0378183889695\n"
     ]
    }
   ],
   "source": [
    "from scipy.stats import ttest_ind  \n",
    "a = [3,4,1,1,1,3,3,6,5,1,4,5,4,4,3,6,7,7,7,8]  \n",
    "b = [7,6,7,8,7,6,5,6,4,2,5,4,3,6,7,5,4,3,8,7]  \n",
    "t,p=ttest_ind(a,b)  \n",
    "print t  \n",
    "print p   \n",
    "'''计算得到的p值是0.0378，说明观察到的差异是由随机因数引起的概率小于0.04，说明家外治疗似乎更有效\n",
    "'''"
   ]
  },
  {
   "cell_type": "code",
   "execution_count": 42,
   "metadata": {
    "collapsed": false
   },
   "outputs": [
    {
     "name": "stdout",
     "output_type": "stream",
     "text": [
      "-2.01511439274\n",
      "0.0582635474126\n"
     ]
    }
   ],
   "source": [
    "from scipy.stats import ttest_rel  \n",
    "a = [3,5,4,6,5,5,4,5,3,6,7,8,7,6,7,8,8,9,9,8,7,7,6,7,8]  \n",
    "b = [7,8,6,7,8,9,6,6,7,8,8,7,9,10,9,9,8,8,4,4,5,6,9,8,12]  \n",
    "\n",
    "a = [2,2,3,1]\n",
    "b = [30,100,200,100]\n",
    "a = [3,4,1,1,1,3,3,6,5,1,4,5,4,4,3,6,7,7,7,8]  \n",
    "b = [7,6,7,8,7,6,5,6,4,2,5,4,3,6,7,5,4,3,8,7]\n",
    "t,p=ttest_rel(a,b)  \n",
    "print t  \n",
    "print p  \n",
    "\n",
    "#辅导后的课后成绩是否有差异"
   ]
  },
  {
   "cell_type": "code",
   "execution_count": 24,
   "metadata": {
    "collapsed": false
   },
   "outputs": [
    {
     "name": "stdout",
     "output_type": "stream",
     "text": [
      "0.008\n",
      "0.4505\n",
      "0.499\n"
     ]
    }
   ],
   "source": [
    "def get_zarea(zvalue):  \n",
    "    z_area = [  \n",
    "        [0.0000,0.0040,0.0080,0.0120,0.0160,0.0199,0.0239,0.0279,0.0319,0.0359],  \n",
    "        [0.0398,0.0438,0.0478,0.0517,0.0557,0.0596,0.0636,0.0675,0.0714,0.0753],  \n",
    "        [0.0793,0.0832,0.0871,0.0910,0.0948,0.0987,0.1026,0.1064,0.1103,0.1141],  \n",
    "        [0.1179,0.1217,0.1255,0.1293,0.1331,0.1368,0.1406,0.1443,0.1480,0.1517],  \n",
    "        [0.1554,0.1591,0.1628,0.1664,0.1700,0.1736,0.1772,0.1808,0.1844,0.1879],  \n",
    "        [0.1915,0.1950,0.1985,0.2019,0.2054,0.2088,0.2123,0.2157,0.2190,0.2224],  \n",
    "        [0.2257,0.2291,0.2324,0.2357,0.2389,0.2422,0.2454,0.2486,0.2517,0.2549],  \n",
    "        [0.2580,0.2611,0.2642,0.2673,0.2704,0.2734,0.2764,0.2794,0.2823,0.2852],  \n",
    "        [0.2881,0.2910,0.2939,0.2967,0.2995,0.3023,0.3051,0.3078,0.3106,0.3133],  \n",
    "        [0.3159,0.3186,0.3212,0.3238,0.3264,0.3289,0.3315,0.3340,0.3365,0.3389],  \n",
    "        [0.3413,0.3438,0.3461,0.3485,0.3508,0.3531,0.3554,0.3577,0.3599,0.3621],  \n",
    "        [0.3643,0.3665,0.3686,0.3708,0.3729,0.3749,0.3770,0.3790,0.3810,0.3830],  \n",
    "        [0.3849,0.3869,0.3888,0.3907,0.3925,0.3944,0.3962,0.3980,0.3997,0.4015],  \n",
    "        [0.4032,0.4049,0.4066,0.4082,0.4099,0.4115,0.4131,0.4147,0.4162,0.4177],  \n",
    "        [0.4192,0.4207,0.4222,0.4236,0.4251,0.4265,0.4279,0.4292,0.4306,0.4319],  \n",
    "        [0.4332,0.4345,0.4357,0.4370,0.4382,0.4394,0.4406,0.4418,0.4429,0.4441],  \n",
    "        [0.4452,0.4463,0.4474,0.4484,0.4495,0.4505,0.4515,0.4525,0.4535,0.4545],  \n",
    "        [0.4554,0.4564,0.4573,0.4582,0.4591,0.4599,0.4608,0.4616,0.4625,0.4633],  \n",
    "        [0.4641,0.4649,0.4656,0.4664,0.4671,0.4678,0.4686,0.4693,0.4699,0.4706],  \n",
    "        [0.4713,0.4719,0.4726,0.4732,0.4738,0.4744,0.4750,0.4756,0.4761,0.4767],  \n",
    "        [0.4772,0.4778,0.4783,0.4788,0.4793,0.4798,0.4803,0.4808,0.4812,0.4817],  \n",
    "        [0.4821,0.4826,0.4830,0.4834,0.4838,0.4842,0.4846,0.4850,0.4854,0.4857],  \n",
    "        [0.4861,0.4864,0.4868,0.4871,0.4875,0.4878,0.4881,0.4884,0.4887,0.4890],  \n",
    "        [0.4893,0.4896,0.4898,0.4901,0.4904,0.4906,0.4909,0.4911,0.4913,0.4916],  \n",
    "        [0.4918,0.4920,0.4922,0.4925,0.4927,0.4929,0.4931,0.4932,0.4934,0.4936],  \n",
    "        [0.4938,0.4940,0.4941,0.4943,0.4945,0.4946,0.4948,0.4949,0.4951,0.4952],  \n",
    "        [0.4953,0.4955,0.4956,0.4957,0.4959,0.4960,0.4961,0.4962,0.4963,0.4964],  \n",
    "        [0.4965,0.4966,0.4967,0.4968,0.4969,0.4970,0.4971,0.4972,0.4973,0.4974],  \n",
    "        [0.4974,0.4975,0.4976,0.4977,0.4977,0.4978,0.4979,0.4979,0.4980,0.4981],  \n",
    "        [0.4981,0.4982,0.4982,0.4983,0.4984,0.4984,0.4985,0.4985,0.4986,0.4986],  \n",
    "        [0.4987,0.4987,0.4987,0.4988,0.4988,0.4989,0.4989,0.4989,0.4990,0.4990]  \n",
    "    ]  \n",
    "    zvalue = abs(zvalue)  \n",
    "    if zvalue>3.09:  \n",
    "        return 0.4990  \n",
    "    zvalue = int(zvalue*100)  \n",
    "    i = zvalue / 10  \n",
    "    j = zvalue % 10  \n",
    "    area = z_area[i][j]  \n",
    "    return area  \n",
    "  \n",
    "print get_zarea(0.02)  \n",
    "print get_zarea(1.65)  \n",
    "print get_zarea(3.09)  "
   ]
  }
 ],
 "metadata": {
  "anaconda-cloud": {},
  "kernelspec": {
   "display_name": "Python [conda root]",
   "language": "python",
   "name": "conda-root-py"
  },
  "language_info": {
   "codemirror_mode": {
    "name": "ipython",
    "version": 2
   },
   "file_extension": ".py",
   "mimetype": "text/x-python",
   "name": "python",
   "nbconvert_exporter": "python",
   "pygments_lexer": "ipython2",
   "version": "2.7.12"
  }
 },
 "nbformat": 4,
 "nbformat_minor": 1
}
