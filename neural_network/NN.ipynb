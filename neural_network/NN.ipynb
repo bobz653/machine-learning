{
 "cells": [
  {
   "cell_type": "code",
   "execution_count": 1,
   "metadata": {
    "collapsed": false
   },
   "outputs": [
    {
     "name": "stdout",
     "output_type": "stream",
     "text": [
      "Error:0.500628229093\n",
      "Error:0.498997374028\n",
      "Error:0.49116652729\n",
      "Error:0.426619597626\n",
      "Error:0.294037715833\n",
      "Error:0.157629822455\n",
      "Error:0.10242256852\n",
      "Error:0.0775218641889\n",
      "Error:0.0635572830862\n",
      "Error:0.0545745778488\n",
      "[[ 0.03320689]\n",
      " [ 0.95671518]\n",
      " [ 0.94841221]\n",
      " [ 0.06498691]]\n"
     ]
    }
   ],
   "source": [
    "import numpy as np\n",
    "\n",
    "\n",
    "def sigmoid(x):\n",
    "    return 1.0/(1+np.exp(-x))\n",
    "\n",
    "def sigmoid_derivative(x):\n",
    "    return x*(1-x)\n",
    "\n",
    "#input instance\n",
    "X = np.array([[0,0,1],\n",
    "            [0,1,1],\n",
    "            [1,0,1],\n",
    "            [1,1,1]])\n",
    "                \n",
    "y = np.array([[0],[1],[1],[0]])\n",
    "\n",
    "\n",
    "#初始化参数，不能全是0，否则hidden layer不起作用\n",
    "\n",
    "np.random.seed(1)\n",
    "syn1 = 2*np.random.random((3,5))-1\n",
    "syn2 = 2*np.random.random((5,1))-1\n",
    "\n",
    "epoch_num = 1000\n",
    "\n",
    "for i in range(epoch_num):\n",
    "    #forward\n",
    "    #first layer\n",
    "    #store all instance layer1 value\n",
    "    L1 = sigmoid(np.dot(X, syn1))\n",
    "    #sotre all install layer 2 value\n",
    "    L2 = sigmoid(np.dot(L1,syn2))\n",
    "    \n",
    "    #backward\n",
    "    L2_error = y - L2\n",
    "    \n",
    "    if (i% 100) == 0:\n",
    "        print \"Error:\" + str(np.mean(np.abs(L2_error)))\n",
    "    \n",
    "    # all instace's delta 4*1\n",
    "    L2_delta = L2_error * sigmoid_derivative(L2)\n",
    "    \n",
    "    \n",
    "    #all instance's delta 4 * 5\n",
    "    L1_error = np.dot(L2_delta, syn2.T)\n",
    "    L1_delta = L1_error * sigmoid_derivative(L1)\n",
    "    \n",
    "    syn2 += np.dot(L1.T, L2_delta)\n",
    "    syn1 += np.dot(X.T, L1_delta)\n",
    "    \n",
    "  \n",
    "L1 = sigmoid(np.dot(X, syn1))\n",
    "L2 = sigmoid(np.dot(L1,syn2))\n",
    "print L2"
   ]
  }
 ],
 "metadata": {
  "anaconda-cloud": {},
  "kernelspec": {
   "display_name": "Python [conda root]",
   "language": "python",
   "name": "conda-root-py"
  },
  "language_info": {
   "codemirror_mode": {
    "name": "ipython",
    "version": 2
   },
   "file_extension": ".py",
   "mimetype": "text/x-python",
   "name": "python",
   "nbconvert_exporter": "python",
   "pygments_lexer": "ipython2",
   "version": "2.7.12"
  }
 },
 "nbformat": 4,
 "nbformat_minor": 1
}
